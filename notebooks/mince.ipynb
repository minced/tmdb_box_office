{
 "cells": [
  {
   "cell_type": "markdown",
   "metadata": {},
   "source": [
    "# Summary\n",
    "Wanted to produce a representation that would be usable for as many types of classifier as possible with minimum loss of information. Ended up doing ssomething I can describe as \"many-hot encoding.\" Works as follows:\n",
    "```\n",
    "cast: \"[{name: \"Jim Carrey\", ...}, {name: \"Pam\"...}, {name: \"Harry\"}...]\"\n",
    "\n",
    "# Step 1: use ASTs to parse 'cast' into a bunch of single entities\n",
    "cast: [{name: \"Jim Carrey\", ...}, {name: \"Pam\"...}, {name: \"Harry\"}...]\n",
    "\n",
    "# Step 2: extract names:\n",
    "cast: [\"Jim Carrey\", \"Pam\", \"Harry\"...]\n",
    "\n",
    "# Step 3: dummy columns:\n",
    "| \"cast_Jim Carrey\"| \"cast_pam\" | \"cast_Tom\" | \"cast_Dick\"|\"cast_Harry\"|\n",
    "| 1                |  1         | 0          | 0          | 1          |\n",
    "```\n",
    "\n",
    "Unfortunately that produced 48,000 features, which was too many. Had to implement a crude form of feature selection:\n",
    "look at actors by popularity, and choose popular actors to \"keep\" until 10% of all actor appearances were covered. \n",
    "Did the same with other JSON-valued columns, reducing from 48K attributes to around 4K.\n",
    "Produced far better results.\n",
    "\n",
    "## Shortcoming: order of performers/languages/etc. is lost.\n",
    "\n",
    "In TMDB results, ordering is important. First actor in \"cast\" is lead actor. Tried to mitigate as follows.\n",
    "\n",
    "### Lead role column\n",
    "Added a \"lead_role\" column to encompass first actor only. \n",
    "\n",
    "### Make each actor increasingly less important\n",
    "Give dummy column for lead actor value $1$, next actor $0.9$, next actor after that $0.9^2$ etc. - exponential decay.\n",
    "Didn't help in presence of lead role attribute.\n",
    "\n",
    "# Results so far\n",
    "\n",
    "Using 80% train/20% test, got normalized R2 score (standard measure of performance for regression problems) of 0.75 using Random Forest. Gradient Boosting with XGBoost performed similarly. Multi-layer perceptron, surprisingly, was not far behind with score of 0.66. K-nearest neighbor with 10 neighbors also got score 0.66.\n",
    "\n",
    "# Most important attributes\n",
    "\n",
    "Tried ranking features. XGBoost's feature ranking was _excellent_ and far outperformed other methods I tried. Feature importance graph is reproduced below. Unsurprisingly, big-name actors, genres such as \"science fiction\", revenue, and popularity were the most important features.\n",
    "\n",
    "# Possible Improvements\n",
    "\n",
    "## Train different classifiers on overlapping 10+ year periods to account for changing trends, use ensemble.\n",
    "XGBoost ranked \"science fiction\" as an important keyword, which is true for last two decades but not earlier. Strongly suggests that using a different classifier for different decades would produce better results. Easy way to test is to filter results to a certain decade before building train/test sets."
   ]
  },
  {
   "cell_type": "code",
   "execution_count": 266,
   "metadata": {},
   "outputs": [],
   "source": [
    "# Copying stuff from https://www.kaggle.com/startupsci/titanic-data-science-solutions/notebook\n",
    "\n",
    "# data analysis and wrangling\n",
    "import pandas as pd\n",
    "import numpy as np\n",
    "import random as rnd\n",
    "\n",
    "# visualization\n",
    "import seaborn as sns\n",
    "import matplotlib.pyplot as plt\n",
    "%matplotlib inline\n",
    "\n",
    "# machine learning\n",
    "from sklearn.linear_model import LogisticRegression\n",
    "from sklearn.svm import SVC, LinearSVC\n",
    "from sklearn.ensemble import RandomForestClassifier\n",
    "from sklearn.neighbors import KNeighborsClassifier\n",
    "from sklearn.naive_bayes import GaussianNB\n",
    "from sklearn.linear_model import Perceptron\n",
    "from sklearn.linear_model import SGDClassifier\n",
    "from sklearn.tree import DecisionTreeClassifier\n",
    "\n",
    "from collections import Counter"
   ]
  },
  {
   "cell_type": "code",
   "execution_count": 2,
   "metadata": {},
   "outputs": [
    {
     "data": {
      "text/plain": [
       "Index(['id', 'belongs_to_collection', 'budget', 'genres', 'homepage',\n",
       "       'imdb_id', 'original_language', 'original_title', 'overview',\n",
       "       'popularity', 'poster_path', 'production_companies',\n",
       "       'production_countries', 'release_date', 'runtime', 'spoken_languages',\n",
       "       'status', 'tagline', 'title', 'Keywords', 'cast', 'crew', 'revenue'],\n",
       "      dtype='object')"
      ]
     },
     "execution_count": 2,
     "metadata": {},
     "output_type": "execute_result"
    }
   ],
   "source": [
    "import os\n",
    "train_df_raw = pd.read_csv(os.path.join(os.getcwd(),'../input/train.csv.zip'), compression='zip')\n",
    "test_df_raw = pd.read_csv(os.path.join(os.getcwd(),'../input/test.csv.zip'), compression='zip')\n",
    "train_df_raw.columns"
   ]
  },
  {
   "cell_type": "code",
   "execution_count": 275,
   "metadata": {},
   "outputs": [
    {
     "name": "stdout",
     "output_type": "stream",
     "text": [
      "Converting column original_language\n",
      "Unique values:  ['en' 'hi' 'ko' 'sr' 'fr' 'it' 'nl' 'zh' 'es' 'cs' 'ta' 'cn' 'ru' 'tr'\n",
      " 'ja' 'fa' 'sv' 'de' 'te' 'pt' 'mr' 'da' 'fi' 'el' 'ur' 'he' 'no' 'ar'\n",
      " 'nb' 'ro' 'vi' 'pl' 'hu' 'ml' 'bn' 'id']\n",
      "Converting column status\n",
      "Unique values:  ['Released' 'Rumored']\n",
      "Converting column lead_role\n",
      "Unique values:  ['Rob Corddry' 'Anne Hathaway' 'Miles Teller' ... 'Douglas Fairbanks'\n",
      " 'Mira Barkhammar' 'Taylor Lautner']\n",
      "Converting column  genres\n",
      "Found 20 distinct names for AST entities in column  genres\n",
      "Found 20 names in most popular 1 of occurrences.\n",
      "Converting column  Keywords\n",
      "Found 7400 distinct names for AST entities in column  Keywords\n",
      "Found 800 names in most popular 0.5 of occurrences.\n",
      "Converting column  cast\n",
      "Found 38588 distinct names for AST entities in column  cast\n",
      "Found 500 names in most popular 0.1 of occurrences.\n",
      "Converting column  production_companies\n",
      "Found 3695 distinct names for AST entities in column  production_companies\n",
      "Found 24 names in most popular 0.2 of occurrences.\n",
      "Converting column  spoken_languages\n",
      "Found 56 distinct names for AST entities in column  spoken_languages\n",
      "Found 1 names in most popular 0.1 of occurrences.\n",
      "Done.\n",
      "Found 3014 total real/dummy features and 3000 rows.\n"
     ]
    }
   ],
   "source": [
    "import ast\n",
    "import os\n",
    "from itertools import repeat\n",
    "\n",
    "def get_ast_name_array(s, nameType='name'):\n",
    "   '''\n",
    "   Returns arrays of element names given a column with AST-encoded string values.\n",
    "   '''\n",
    "   if isinstance(s, str):\n",
    "       row = ast.literal_eval(s)\n",
    "       curr_row = []\n",
    "       for entry in row:\n",
    "           curr_row.append(entry[nameType])\n",
    "       return curr_row\n",
    "   return []\n",
    "\n",
    "def filter_to_top_percentile(counter, fraction):\n",
    "    '''\n",
    "    Return most popular words so that approximately `fraction` of total count is accounted for\n",
    "    '''\n",
    "    projected_count = sum(counter.values()) * fraction\n",
    "    words=set()\n",
    "    s = 0\n",
    "    for (word, count) in counter.most_common():\n",
    "        s += count\n",
    "        words.add(word)\n",
    "        if s >= projected_count:\n",
    "            break\n",
    "    return words\n",
    "\n",
    "\n",
    "def _decay(ratio):\n",
    "    i = 0\n",
    "    ret = 1\n",
    "    while True:\n",
    "        yield ret\n",
    "        i +=1\n",
    "        ret *= ratio\n",
    "        \n",
    "def get_dummies_filter_outliers(c, name, fraction_to_keep=0.5, decay_ratio=1):\n",
    "    '''\n",
    "       Given a single column (i.e. a series) where values are sets of strings {v1, v2,...},\n",
    "       creates a set of dummy columns \"name_v\" that indicate whether name_v was contained in the corresponding set.\n",
    "       \n",
    "       decay_ratio: each item in a list is worth this much less than the previous one.\n",
    "    '''\n",
    "    vals_map = {}\n",
    "    cnt = Counter() # Overall counts for items.\n",
    "    s = set() # Set of all items.\n",
    "    for i, e in c.iteritems():\n",
    "        if (isinstance(e, list)):\n",
    "            try:\n",
    "                s |= set(e)\n",
    "                for i in e:\n",
    "                    cnt[i] += 1\n",
    "            except t:\n",
    "                print(\"Error: couldn't add set \", e, \"with index\", i, t)\n",
    "        elif not (isinstance(e, float) and np.isnan(e)) and not (isinstance(e,list)):\n",
    "            print(\"unexpected value for column with index\",i,\":\",type(e),e)\n",
    "    top_names = filter_to_top_percentile(cnt, fraction_to_keep)\n",
    "    print(\"Found\", len(s), \"distinct names for AST entities in column \", name)\n",
    "    print(\"Found\", len(top_names), \"names in most popular\", fraction_to_keep, \"of occurrences.\")\n",
    "    for id, val in enumerate(s):\n",
    "       vals_map[id]=val\n",
    "    cols = {}\n",
    "    # TODO for each entry of e, assign cols value \n",
    "    weightings = c.apply(lambda l: dict(zip(l,_decay(decay_ratio))))\n",
    "    for val in top_names:\n",
    "        cols[name + \"_\" + val] = weightings.apply(lambda e: e.get(val,0))\n",
    "    # Without weighting:\n",
    "#     for val in top_names:\n",
    "#        cols[name + \"_\" + val] = c.apply(set).apply(lambda e: val in e)\n",
    "    return pd.DataFrame(cols)\n",
    "\n",
    "def get_dummies(c, name):\n",
    "    '''\n",
    "       Given a single column (i.e. a series) where values are sets of strings {v1, v2,...},\n",
    "       creates a set of dummy columns \"name_v\" that indicate whether name_v was contained in the corresponding set.\n",
    "    '''\n",
    "    vals_map = {}\n",
    "    s = set()\n",
    "    for i, e in c.iteritems():\n",
    "        if (isinstance(e,set)):\n",
    "            try:\n",
    "                s |= set(e)\n",
    "            except:\n",
    "                print(\"Error: couldn't add set \", e, \"with index\", i)\n",
    "        elif not (isinstance(e, float) and np.isnan(e)) and not (isinstance(e,list)):\n",
    "            print(\"unexpected value for column with index\",i,\":\",type(e),e)\n",
    "    print(\"Found\", len(s), \"distinct names for AST entities in column \", name)\n",
    "    for id, val in enumerate(s):\n",
    "       vals_map[id]=val\n",
    "    cols = {}\n",
    "    for val in s:\n",
    "       cols[name + \"_\" + val] = c.apply(lambda e: val in e)\n",
    "    return pd.DataFrame(cols)\n",
    "\n",
    "def get_first(iterable, default=None):\n",
    "    if iterable:\n",
    "        for item in iterable:\n",
    "            return item\n",
    "    return default\n",
    "\n",
    "numeric_columns = ['budget', 'popularity','runtime']\n",
    "categorical_columns = ['original_language', 'status']\n",
    "json_X_columns = ['genres', 'Keywords', 'cast', 'production_companies', 'spoken_languages']\n",
    "fractions_to_keep_per_json_column = [1, 0.5, 0.1, 0.2, 0.1]\n",
    "# In the presence of a lead_role column, decay wasn't that useful. :(\n",
    "decay_ratios = [1,1,1,1,1]\n",
    "\n",
    "y_col = 'revenue'\n",
    "        \n",
    "def get_X(df_raw):\n",
    "    '''\n",
    "    Converts each of the JSON-encoded values into a list of the underlying JSON entity names.\n",
    "    Encoding is somewhat lossy because cast ordering is important, but it's a first pass.\n",
    "    '''\n",
    "    df = df_raw.copy()\n",
    "    df['release_date'] = pd.to_datetime(df['release_date']).apply(lambda x: x.date())\n",
    "    # Nate's idea: \"Does it have a sequel?\"\n",
    "    is_in_collection = pd.isnull(train_df_raw['belongs_to_collection'])\n",
    "    # TODO: could also give first few items in cast list some extra weight in one-hot encoding.\n",
    "    df['lead_role'] = train_df_raw['cast'].apply(get_ast_name_array).apply(get_first)\n",
    "    frames = [df[numeric_columns]]\n",
    "    for column in categorical_columns + ['lead_role']:\n",
    "#     for column in categorical_columns:\n",
    "        print(\"Converting column\",column)\n",
    "        print(\"Unique values: \", df[column].unique())\n",
    "        frames.append(pd.get_dummies(df[column],prefix=column + \"_\"))\n",
    "    for column, fraction_to_keep, decay_ratio in zip(json_X_columns, fractions_to_keep_per_json_column, decay_ratios):\n",
    "        print(\"Converting column \", column)\n",
    "        df[column] = df[column].apply(get_ast_name_array)\n",
    "        frames.append(get_dummies_filter_outliers(df[column], column, fraction_to_keep, decay_ratio))\n",
    "    X = pd.concat(frames,axis=1).fillna(0) # Concatenate on index\n",
    "    return X\n",
    "\n",
    "X = get_X(train_df_raw)\n",
    "y = train_df_raw['revenue']\n",
    "\n",
    "# Budget/revenue are easier to understand with when log-valued.\n",
    "# XGBoost performance appears considerably worse with log-values since it's using linear objective.\n",
    "# There's a log-based objective that XGBoost can use, but R2-performance was somewhat worse.\n",
    "# X['budget'] = np.log(X['budget'] + 1)\n",
    "# y = np.log(y + 1)\n",
    "\n",
    "print(\"Done.\")\n",
    "print(\"Found\", X.shape[1], \"total real/dummy features and\", X.shape[0], \"rows.\")"
   ]
  },
  {
   "cell_type": "code",
   "execution_count": 273,
   "metadata": {},
   "outputs": [
    {
     "name": "stdout",
     "output_type": "stream",
     "text": [
      "0    en\n",
      "1    en\n",
      "2    en\n",
      "3    hi\n",
      "4    ko\n",
      "Name: original_language, dtype: object\n",
      "   ar  bn  cn  cs  da  de  el  en  es  fa ...  ro  ru  sr  sv  ta  te  tr  ur  \\\n",
      "0   0   0   0   0   0   0   0   1   0   0 ...   0   0   0   0   0   0   0   0   \n",
      "1   0   0   0   0   0   0   0   1   0   0 ...   0   0   0   0   0   0   0   0   \n",
      "2   0   0   0   0   0   0   0   1   0   0 ...   0   0   0   0   0   0   0   0   \n",
      "3   0   0   0   0   0   0   0   0   0   0 ...   0   0   0   0   0   0   0   0   \n",
      "4   0   0   0   0   0   0   0   0   0   0 ...   0   0   0   0   0   0   0   0   \n",
      "\n",
      "   vi  zh  \n",
      "0   0   0  \n",
      "1   0   0  \n",
      "2   0   0  \n",
      "3   0   0  \n",
      "4   0   0  \n",
      "\n",
      "[5 rows x 36 columns]\n"
     ]
    }
   ],
   "source": [
    "# Sample of how one-hot encoding works\n",
    "from sklearn.preprocessing import OneHotEncoder\n",
    "\n",
    "# Original values.\n",
    "print(train_df_raw.original_language.head())\n",
    "\n",
    "# One-hot encoded values\n",
    "print(pd.get_dummies(train_df_raw.original_language).head())"
   ]
  },
  {
   "cell_type": "code",
   "execution_count": 272,
   "metadata": {},
   "outputs": [
    {
     "data": {
      "text/plain": [
       "Index(['budget', 'popularity', 'runtime', 'original_language__ar',\n",
       "       'original_language__bn', 'original_language__cn',\n",
       "       'original_language__cs', 'original_language__da',\n",
       "       'original_language__de', 'original_language__el',\n",
       "       ...\n",
       "       'production_companies_Working Title Films',\n",
       "       'production_companies_BBC Films',\n",
       "       'production_companies_Columbia Pictures',\n",
       "       'production_companies_Touchstone Pictures',\n",
       "       'production_companies_TriStar Pictures',\n",
       "       'production_companies_United Artists',\n",
       "       'production_companies_Dune Entertainment',\n",
       "       'production_companies_Regency Enterprises',\n",
       "       'production_companies_Universal Pictures', 'spoken_languages_English'],\n",
       "      dtype='object', length=3014)"
      ]
     },
     "execution_count": 272,
     "metadata": {},
     "output_type": "execute_result"
    }
   ],
   "source": [
    "X.columns # Will be huge"
   ]
  },
  {
   "cell_type": "code",
   "execution_count": 79,
   "metadata": {},
   "outputs": [
    {
     "data": {
      "text/plain": [
       "(array([ 44.,   8.,   5.,   5.,  12.,  35.,  46.,  64.,  80., 106., 128.,\n",
       "        186., 234., 330., 433., 426., 416., 285., 120.,  37.]),\n",
       " array([ 4.61512052,  5.44144876,  6.267777  ,  7.09410524,  7.92043348,\n",
       "         8.74676172,  9.57308997, 10.39941821, 11.22574645, 12.05207469,\n",
       "        12.87840293, 13.70473117, 14.53105941, 15.35738766, 16.1837159 ,\n",
       "        17.01004414, 17.83637238, 18.66270062, 19.48902886, 20.31535711,\n",
       "        21.14168535]),\n",
       " <a list of 20 Patch objects>)"
      ]
     },
     "execution_count": 79,
     "metadata": {},
     "output_type": "execute_result"
    },
    {
     "data": {
      "image/png": "[encoded data removed]",
      "text/plain": [
       "<Figure size 432x288 with 1 Axes>"
      ]
     },
     "metadata": {
      "needs_background": "light"
     },
     "output_type": "display_data"
    }
   ],
   "source": [
    "%matplotlib inline\n",
    "\n",
    "import matplotlib.pyplot as plt\n",
    "\n",
    "plt.hist(np.log(train_df_raw.revenue + 100), bins=20)"
   ]
  },
  {
   "cell_type": "code",
   "execution_count": 82,
   "metadata": {},
   "outputs": [
    {
     "data": {
      "text/plain": [
       "<matplotlib.collections.PathCollection at 0x1a1b5cf898>"
      ]
     },
     "execution_count": 82,
     "metadata": {},
     "output_type": "execute_result"
    },
    {
     "data": {
      "image/png": "[encoded data removed]",
      "text/plain": [
       "<Figure size 432x288 with 1 Axes>"
      ]
     },
     "metadata": {
      "needs_background": "light"
     },
     "output_type": "display_data"
    }
   ],
   "source": [
    "plt.scatter(np.log(train_df_raw.budget + 100), np.log(train_df_raw.revenue + 100))"
   ]
  },
  {
   "cell_type": "code",
   "execution_count": 269,
   "metadata": {},
   "outputs": [
    {
     "data": {
      "text/plain": [
       "<matplotlib.collections.PathCollection at 0x1a1974f7b8>"
      ]
     },
     "execution_count": 269,
     "metadata": {},
     "output_type": "execute_result"
    },
    {
     "data": {
      "image/png": "[encoded data removed]",
      "text/plain": [
       "<Figure size 432x288 with 1 Axes>"
      ]
     },
     "metadata": {
      "needs_background": "light"
     },
     "output_type": "display_data"
    }
   ],
   "source": [
    "plt.scatter(train_df_raw.popularity, train_df_raw.revenue)"
   ]
  },
  {
   "cell_type": "code",
   "execution_count": 95,
   "metadata": {},
   "outputs": [
    {
     "data": {
      "text/plain": [
       "<matplotlib.collections.PathCollection at 0x1a2d6be6d8>"
      ]
     },
     "execution_count": 95,
     "metadata": {},
     "output_type": "execute_result"
    },
    {
     "data": {
      "image/png": "[encoded data removed]",
      "text/plain": [
       "<Figure size 432x288 with 1 Axes>"
      ]
     },
     "metadata": {
      "needs_background": "light"
     },
     "output_type": "display_data"
    }
   ],
   "source": [
    "plt.scatter(train_df_raw.revenue, train_df_raw.budget)"
   ]
  },
  {
   "cell_type": "markdown",
   "metadata": {},
   "source": [
    "# Train XGBoost and get R2 score on test set"
   ]
  },
  {
   "cell_type": "code",
   "execution_count": 265,
   "metadata": {},
   "outputs": [
    {
     "name": "stdout",
     "output_type": "stream",
     "text": [
      "train/test constructed.\n",
      "Fitting...\n"
     ]
    },
    {
     "name": "stderr",
     "output_type": "stream",
     "text": [
      "/Users/mince/anaconda3/lib/python3.7/site-packages/xgboost/core.py:587: FutureWarning: Series.base is deprecated and will be removed in a future version\n",
      "  if getattr(data, 'base', None) is not None and \\\n"
     ]
    },
    {
     "name": "stdout",
     "output_type": "stream",
     "text": [
      "Predicting...\n",
      "Calculating RMSE...\n",
      "RMSE: 64068873.839877\n",
      "R2 score test:  0.7503512924929838\n",
      "R^2 score (train):  0.9594283780647136\n"
     ]
    }
   ],
   "source": [
    "\n",
    "from sklearn.model_selection import train_test_split\n",
    "X_train, X_test, y_train, y_test = train_test_split(X, y, test_size=0.2, random_state=123)\n",
    "print(\"train/test constructed.\")\n",
    "\n",
    "# https://www.datacamp.com/community/tutorials/xgboost-in-python'\n",
    "# TODO too many columns\n",
    "import xgboost as xgb\n",
    "from sklearn.metrics import mean_squared_error\n",
    "\n",
    "# data_dmatrix = xgb.DMatrix(data=X,label=y)\n",
    "\n",
    "xg_reg = xgb.XGBRegressor(objective ='reg:linear', colsample_bytree = 0.3, learning_rate = 0.1,\n",
    "                max_depth = 8, alpha = 10, n_estimators = 100)\n",
    "\n",
    "print(\"Fitting...\")\n",
    "xg_reg.fit(X_train,y_train)\n",
    "print(\"Predicting...\")\n",
    "preds = xg_reg.predict(X_test)\n",
    "print(\"Calculating RMSE...\")\n",
    "rmse = np.sqrt(mean_squared_error(y_test, preds))\n",
    "print(\"RMSE: %f\" % (rmse))\n",
    "np.corrcoef(y_test, preds)\n",
    "\n",
    "from sklearn.metrics import r2_score\n",
    "print(\"R2 score test: \", r2_score(y_test, preds))\n",
    "print(\"R^2 score (train): \", r2_score(y_train, xg_reg.predict(X_train)))"
   ]
  },
  {
   "cell_type": "code",
   "execution_count": 263,
   "metadata": {},
   "outputs": [
    {
     "data": {
      "image/png": "[encoded data removed]",
      "text/plain": [
       "<Figure size 432x288 with 1 Axes>"
      ]
     },
     "metadata": {
      "needs_background": "light"
     },
     "output_type": "display_data"
    }
   ],
   "source": [
    "# plot feature importance\n",
    "from xgboost import plot_importance\n",
    "import matplotlib.pyplot as plt\n",
    "plot_importance(xg_reg, max_num_features=30)\n",
    "plt.show()"
   ]
  },
  {
   "cell_type": "markdown",
   "metadata": {},
   "source": [
    "That is a very, _very_ good feature importance graph. All the features make sense!"
   ]
  },
  {
   "cell_type": "code",
   "execution_count": 245,
   "metadata": {},
   "outputs": [
    {
     "data": {
      "text/plain": [
       "\u001b[0;31mInit signature:\u001b[0m\n",
       "\u001b[0mxgb\u001b[0m\u001b[0;34m.\u001b[0m\u001b[0mXGBRegressor\u001b[0m\u001b[0;34m(\u001b[0m\u001b[0;34m\u001b[0m\n",
       "\u001b[0;34m\u001b[0m    \u001b[0;34m[\u001b[0m\u001b[0;34m'max_depth=3'\u001b[0m\u001b[0;34m,\u001b[0m \u001b[0;34m'learning_rate=0.1'\u001b[0m\u001b[0;34m,\u001b[0m \u001b[0;34m'n_estimators=100'\u001b[0m\u001b[0;34m,\u001b[0m \u001b[0;34m'silent=True'\u001b[0m\u001b[0;34m,\u001b[0m \u001b[0;34m\"objective='reg:linear'\"\u001b[0m\u001b[0;34m,\u001b[0m \u001b[0;34m\"booster='gbtree'\"\u001b[0m\u001b[0;34m,\u001b[0m \u001b[0;34m'n_jobs=1'\u001b[0m\u001b[0;34m,\u001b[0m \u001b[0;34m'nthread=None'\u001b[0m\u001b[0;34m,\u001b[0m \u001b[0;34m'gamma=0'\u001b[0m\u001b[0;34m,\u001b[0m \u001b[0;34m'min_child_weight=1'\u001b[0m\u001b[0;34m,\u001b[0m \u001b[0;34m'max_delta_step=0'\u001b[0m\u001b[0;34m,\u001b[0m \u001b[0;34m'subsample=1'\u001b[0m\u001b[0;34m,\u001b[0m \u001b[0;34m'colsample_bytree=1'\u001b[0m\u001b[0;34m,\u001b[0m \u001b[0;34m'colsample_bylevel=1'\u001b[0m\u001b[0;34m,\u001b[0m \u001b[0;34m'reg_alpha=0'\u001b[0m\u001b[0;34m,\u001b[0m \u001b[0;34m'reg_lambda=1'\u001b[0m\u001b[0;34m,\u001b[0m \u001b[0;34m'scale_pos_weight=1'\u001b[0m\u001b[0;34m,\u001b[0m \u001b[0;34m'base_score=0.5'\u001b[0m\u001b[0;34m,\u001b[0m \u001b[0;34m'random_state=0'\u001b[0m\u001b[0;34m,\u001b[0m \u001b[0;34m'seed=None'\u001b[0m\u001b[0;34m,\u001b[0m \u001b[0;34m'missing=None'\u001b[0m\u001b[0;34m,\u001b[0m \u001b[0;34m\"importance_type='gain'\"\u001b[0m\u001b[0;34m,\u001b[0m \u001b[0;34m'**kwargs'\u001b[0m\u001b[0;34m]\u001b[0m\u001b[0;34m,\u001b[0m\u001b[0;34m\u001b[0m\n",
       "\u001b[0;34m\u001b[0m\u001b[0;34m)\u001b[0m\u001b[0;34m\u001b[0m\u001b[0;34m\u001b[0m\u001b[0m\n",
       "\u001b[0;31mDocstring:\u001b[0m     \n",
       "Implementation of the scikit-learn API for XGBoost regression.\n",
       "\n",
       "Parameters\n",
       "----------\n",
       "max_depth : int\n",
       "    Maximum tree depth for base learners.\n",
       "learning_rate : float\n",
       "    Boosting learning rate (xgb's \"eta\")\n",
       "n_estimators : int\n",
       "    Number of boosted trees to fit.\n",
       "silent : boolean\n",
       "    Whether to print messages while running boosting.\n",
       "objective : string or callable\n",
       "    Specify the learning task and the corresponding learning objective or\n",
       "    a custom objective function to be used (see note below).\n",
       "booster: string\n",
       "    Specify which booster to use: gbtree, gblinear or dart.\n",
       "nthread : int\n",
       "    Number of parallel threads used to run xgboost.  (Deprecated, please use ``n_jobs``)\n",
       "n_jobs : int\n",
       "    Number of parallel threads used to run xgboost.  (replaces ``nthread``)\n",
       "gamma : float\n",
       "    Minimum loss reduction required to make a further partition on a leaf node of the tree.\n",
       "min_child_weight : int\n",
       "    Minimum sum of instance weight(hessian) needed in a child.\n",
       "max_delta_step : int\n",
       "    Maximum delta step we allow each tree's weight estimation to be.\n",
       "subsample : float\n",
       "    Subsample ratio of the training instance.\n",
       "colsample_bytree : float\n",
       "    Subsample ratio of columns when constructing each tree.\n",
       "colsample_bylevel : float\n",
       "    Subsample ratio of columns for each split, in each level.\n",
       "reg_alpha : float (xgb's alpha)\n",
       "    L1 regularization term on weights\n",
       "reg_lambda : float (xgb's lambda)\n",
       "    L2 regularization term on weights\n",
       "scale_pos_weight : float\n",
       "    Balancing of positive and negative weights.\n",
       "base_score:\n",
       "    The initial prediction score of all instances, global bias.\n",
       "seed : int\n",
       "    Random number seed.  (Deprecated, please use random_state)\n",
       "random_state : int\n",
       "    Random number seed.  (replaces seed)\n",
       "missing : float, optional\n",
       "    Value in the data which needs to be present as a missing value. If\n",
       "    None, defaults to np.nan.\n",
       "importance_type: string, default \"gain\"\n",
       "    The feature importance type for the feature_importances_ property: either \"gain\",\n",
       "    \"weight\", \"cover\", \"total_gain\" or \"total_cover\".\n",
       "\\*\\*kwargs : dict, optional\n",
       "    Keyword arguments for XGBoost Booster object.  Full documentation of parameters can\n",
       "    be found here: https://github.com/dmlc/xgboost/blob/master/doc/parameter.rst.\n",
       "    Attempting to set a parameter via the constructor args and \\*\\*kwargs dict simultaneously\n",
       "    will result in a TypeError.\n",
       "\n",
       "    .. note:: \\*\\*kwargs unsupported by scikit-learn\n",
       "\n",
       "        \\*\\*kwargs is unsupported by scikit-learn.  We do not guarantee that parameters\n",
       "        passed via this argument will interact properly with scikit-learn.\n",
       "\n",
       "Note\n",
       "----\n",
       "A custom objective function can be provided for the ``objective``\n",
       "parameter. In this case, it should have the signature\n",
       "``objective(y_true, y_pred) -> grad, hess``:\n",
       "\n",
       "y_true: array_like of shape [n_samples]\n",
       "    The target values\n",
       "y_pred: array_like of shape [n_samples]\n",
       "    The predicted values\n",
       "\n",
       "grad: array_like of shape [n_samples]\n",
       "    The value of the gradient for each sample point.\n",
       "hess: array_like of shape [n_samples]\n",
       "    The value of the second derivative for each sample point\n",
       "\u001b[0;31mFile:\u001b[0m           ~/anaconda3/lib/python3.7/site-packages/xgboost/sklearn.py\n",
       "\u001b[0;31mType:\u001b[0m           type\n",
       "\u001b[0;31mSubclasses:\u001b[0m     \n"
      ]
     },
     "metadata": {},
     "output_type": "display_data"
    }
   ],
   "source": [
    "?xgb.XGBRegressor"
   ]
  },
  {
   "cell_type": "code",
   "execution_count": 229,
   "metadata": {},
   "outputs": [
    {
     "name": "stdout",
     "output_type": "stream",
     "text": [
      "Done\n"
     ]
    }
   ],
   "source": [
    "# https://xgboost.readthedocs.io/en/latest/tutorials/custom_metric_obj.html\n",
    "import numpy as np\n",
    "import xgboost as xgb\n",
    "from typing import Tuple\n",
    "\n",
    "def gradient(predt: np.ndarray, dtrain: xgb.DMatrix) -> np.ndarray:\n",
    "    '''Compute the gradient squared log error.'''\n",
    "    y = dtrain.get_label()\n",
    "    return (np.log1p(predt) - np.log1p(y)) / (predt + 1)\n",
    "\n",
    "def hessian(predt: np.ndarray, dtrain: xgb.DMatrix) -> np.ndarray:\n",
    "    '''Compute the hessian for squared log error.'''\n",
    "    y = dtrain.get_label()\n",
    "    return ((-np.log1p(predt) + np.log1p(y) + 1) /\n",
    "            np.power(predt + 1, 2))\n",
    "\n",
    "def squared_log(predt: np.ndarray,\n",
    "                dtrain: xgb.DMatrix) -> Tuple[np.ndarray, np.ndarray]:\n",
    "    '''Squared Log Error objective. A simplified version for RMSLE used as\n",
    "    objective function.\n",
    "    '''\n",
    "    predt[predt < -1] = -1 + 1e-6\n",
    "    grad = gradient(predt, dtrain)\n",
    "    hess = hessian(predt, dtrain)\n",
    "    return grad, hess\n",
    "\n",
    "\n",
    "def gradient_squared_log(predt, y):\n",
    "        return (np.log1p(predt) - np.log1p(y)) / (predt + 1)\n",
    "def hessian_squared_log(predt, y):\n",
    "        return ((-np.log1p(predt) + np.log1p(y) + 1) /\n",
    "            np.power(predt + 1, 2))\n",
    "def squared_log_mince(predt, y):\n",
    "    predt[predt < -1] = -1 + 1e-6\n",
    "    grad = gradient(predt, dtrain)\n",
    "    hess = hessian(predt, dtrain)\n",
    "    return grad, hess\n",
    "\n",
    "def rmsle_mince(predt,y):\n",
    "    predt[predt < -1] = -1 + 1e-6\n",
    "    elements = np.power(np.log1p(y) - np.log1p(predt), 2)\n",
    "    return 'PyRMSLE', float(np.sqrt(np.sum(elements) / len(y)))\n",
    "\n",
    "def rmsle(predt: np.ndarray, dtrain: xgb.DMatrix) -> Tuple[str, float]:\n",
    "    ''' Root mean squared log error metric.'''\n",
    "    y = dtrain.get_label()\n",
    "    predt[predt < -1] = -1 + 1e-6\n",
    "    elements = np.power(np.log1p(y) - np.log1p(predt), 2)\n",
    "    return 'PyRMSLE', float(np.sqrt(np.sum(elements) / len(y)))\n",
    "\n",
    "print(\"Done\")\n"
   ]
  },
  {
   "cell_type": "markdown",
   "metadata": {},
   "source": [
    "# Classifier comparison"
   ]
  },
  {
   "cell_type": "code",
   "execution_count": 276,
   "metadata": {},
   "outputs": [
    {
     "name": "stdout",
     "output_type": "stream",
     "text": [
      "train/test constructed.\n",
      "For clf XGBoost linear tweaked 2 :\n",
      "Fitting...\n"
     ]
    },
    {
     "name": "stderr",
     "output_type": "stream",
     "text": [
      "/Users/mince/anaconda3/lib/python3.7/site-packages/xgboost/core.py:587: FutureWarning: Series.base is deprecated and will be removed in a future version\n",
      "  if getattr(data, 'base', None) is not None and \\\n"
     ]
    },
    {
     "name": "stdout",
     "output_type": "stream",
     "text": [
      "Predicting...\n",
      "Calculating RMSE...\n",
      "RMSE: 64280547.661839\n",
      "objective score test:  0.7486989646987032\n",
      "objective (train):  0.9594283780647136\n",
      "Done.\n",
      "\n",
      "\n",
      "For clf XGBoost squared-log :\n",
      "Fitting...\n"
     ]
    },
    {
     "name": "stderr",
     "output_type": "stream",
     "text": [
      "/Users/mince/anaconda3/lib/python3.7/site-packages/xgboost/core.py:587: FutureWarning: Series.base is deprecated and will be removed in a future version\n",
      "  if getattr(data, 'base', None) is not None and \\\n"
     ]
    },
    {
     "name": "stdout",
     "output_type": "stream",
     "text": [
      "Predicting...\n",
      "Calculating RMSE...\n",
      "RMSE: 143636343.398798\n",
      "objective score test:  ('PyRMSLE', 15.947794472189699)\n"
     ]
    },
    {
     "name": "stderr",
     "output_type": "stream",
     "text": [
      "/Users/mince/anaconda3/lib/python3.7/site-packages/ipykernel_launcher.py:41: RuntimeWarning: invalid value encountered in log1p\n"
     ]
    },
    {
     "name": "stdout",
     "output_type": "stream",
     "text": [
      "objective (train):  ('PyRMSLE', 2.283714589867556)\n",
      "Done.\n",
      "\n",
      "\n",
      "For clf dummy :\n",
      "Fitting...\n",
      "Predicting...\n",
      "Calculating RMSE...\n",
      "RMSE: 128252318.453896\n",
      "objective score test:  -0.00038135949268292\n",
      "objective (train):  0.9594283780647136\n",
      "Done.\n",
      "\n",
      "\n",
      "For clf Multi-layer perceptron :\n",
      "Fitting...\n",
      "Predicting...\n",
      "Calculating RMSE...\n",
      "RMSE: 73652190.600186\n",
      "objective score test:  0.6700816450940912\n",
      "objective (train):  0.9594283780647136\n",
      "Done.\n",
      "\n",
      "\n",
      "For clf KNN :\n",
      "Fitting...\n",
      "Predicting...\n",
      "Calculating RMSE...\n",
      "RMSE: 80119538.829370\n",
      "objective score test:  0.609598009813892\n",
      "objective (train):  0.9594283780647136\n",
      "Done.\n",
      "\n",
      "\n",
      "For clf KNN, 10 neighbors :\n",
      "Fitting...\n",
      "Predicting...\n",
      "Calculating RMSE...\n",
      "RMSE: 74604270.789715\n",
      "objective score test:  0.6614970008943499\n",
      "objective (train):  0.9594283780647136\n",
      "Done.\n",
      "\n",
      "\n",
      "For clf Random Forest :\n",
      "Fitting...\n",
      "Predicting...\n",
      "Calculating RMSE...\n",
      "RMSE: 63999883.638559\n",
      "objective score test:  0.7508886530055968\n",
      "objective (train):  0.9594283780647136\n",
      "Done.\n",
      "\n",
      "\n"
     ]
    }
   ],
   "source": [
    "from sklearn.model_selection import train_test_split\n",
    "X_train, X_test, y_train, y_test = train_test_split(X, y, test_size=0.2, random_state=123)\n",
    "print(\"train/test constructed.\")\n",
    "\n",
    "from sklearn.linear_model import LinearRegression\n",
    "from sklearn.linear_model import LogisticRegression\n",
    "from sklearn.svm import SVC, LinearSVC\n",
    "from sklearn.ensemble import RandomForestRegressor\n",
    "from sklearn.neighbors import KNeighborsRegressor\n",
    "from sklearn.naive_bayes import GaussianNB\n",
    "from sklearn.linear_model import Perceptron\n",
    "from sklearn.linear_model import SGDRegressor\n",
    "from sklearn.tree import DecisionTreeClassifier\n",
    "from sklearn.dummy import DummyRegressor\n",
    "from sklearn.neural_network import MLPRegressor\n",
    "\n",
    "# https://xgboost.readthedocs.io/en/latest/parameter.html#\n",
    "# TODO squaredlogerror would be great here - log of budget is important\n",
    "clfs = [\n",
    "        (xgb.XGBRegressor(objective ='reg:linear', colsample_bytree = 0.3, learning_rate = 0.1,\n",
    "                max_depth = 10, alpha = 10, n_estimators = 60), \"XGBoost linear tweaked 2\", r2_score),\n",
    "        (xgb.XGBRegressor(objective=squared_log_mince, colsample_bytree = 0.3, learning_rate = 0.1,\n",
    "                max_depth = 10, alpha = 10, n_estimators = 20), \"XGBoost squared-log\", rmsle_mince),\n",
    "        (DummyRegressor(), \"dummy\", r2_score),\n",
    "        (MLPRegressor(solver='lbfgs'), \"Multi-layer perceptron\", r2_score),\n",
    "        (KNeighborsRegressor(), \"KNN\", r2_score),\n",
    "        (KNeighborsRegressor(n_neighbors=10), \"KNN, 10 neighbors\", r2_score),\n",
    "#         (LinearRegression(), \"linear\", r2_score),\n",
    "        (RandomForestRegressor(n_estimators=60, max_depth=10), \"Random Forest\", r2_score),\n",
    "#         (GaussianNB(), \"Gaussian Naive Bayes\", r2_score)\n",
    "       ]\n",
    "\n",
    "for clf, clf_name, objective in clfs:\n",
    "    print (\"For clf\", clf_name, \":\")\n",
    "    print(\"Fitting...\")\n",
    "    model = clf.fit(X_train,y_train)\n",
    "    print(\"Predicting...\")\n",
    "    preds = model.predict(X_test)\n",
    "    print(\"Calculating RMSE...\")\n",
    "    rmse = np.sqrt(mean_squared_error(y_test, preds))\n",
    "    print(\"RMSE: %f\" % (rmse))\n",
    "    print(\"objective score test: \", objective(y_test, preds))\n",
    "    print(\"objective (train): \", objective(y_train, xg_reg.predict(X_train)))\n",
    "    print(\"Done.\\n\\n\")"
   ]
  },
  {
   "cell_type": "code",
   "execution_count": null,
   "metadata": {},
   "outputs": [],
   "source": [
    "# TODO https://www.kaggle.com/residentmario/automated-feature-selection-with-sklearn\n",
    "# Also lightgbm is faster\n",
    "# https://www.kaggle.com/kanncaa1/feature-selection-and-data-visualization\n",
    "\n",
    "\n",
    "from sklearn.feature_selection import SelectKBest\n",
    "from sklearn.feature_selection import chi2\n",
    "# find best scored 5 features\n",
    "select_feature = SelectKBest(chi2, k=5).fit(X_train, y_train)\n",
    "\n",
    "print('Score list:', select_feature.scores_)\n",
    "print('Feature list:', X_train.columns)\n",
    "\n"
   ]
  },
  {
   "cell_type": "code",
   "execution_count": 211,
   "metadata": {},
   "outputs": [
    {
     "name": "stdout",
     "output_type": "stream",
     "text": [
      "                                           Feat_names      F_Scores\n",
      "0                                              budget  1.817628e+11\n",
      "1                                          popularity  5.157023e+04\n",
      "2                                             runtime  1.218984e+04\n",
      "14                              original_language__sr  2.999000e+03\n",
      "5                               original_language__cs  2.999000e+03\n",
      "4                               original_language__bn  2.999000e+03\n",
      "15                              original_language__ur  2.999000e+03\n",
      "16                              original_language__vi  2.999000e+03\n",
      "3                               original_language__ar  2.999000e+03\n",
      "9                               original_language__id  2.999000e+03\n",
      "11                              original_language__nb  2.999000e+03\n",
      "10                              original_language__mr  2.999000e+03\n",
      "7                               original_language__he  2.999000e+03\n",
      "17                                    genres_TV Movie  2.999000e+03\n",
      "6                               original_language__fi  2.998000e+03\n",
      "12                              original_language__no  2.998000e+03\n",
      "13                              original_language__pl  2.998000e+03\n",
      "8                               original_language__hu  2.997000e+03\n",
      "28              production_companies_Whitewater Films  2.997000e+03\n",
      "25                    production_companies_Prescience  2.997000e+03\n",
      "22               production_companies_IRE Productions  2.997000e+03\n",
      "24  production_companies_Santa Fe Institute for Re...  2.997000e+03\n",
      "23                      production_companies_Cinedigm  2.997000e+03\n",
      "29  production_companies_Media Programme of the Eu...  2.997000e+03\n",
      "20                      production_companies_Fandango  2.997000e+03\n",
      "18       production_companies_Senator Film Produktion  2.997000e+03\n",
      "19      production_companies_Broken Lizard Industries  2.997000e+03\n",
      "27                      production_companies_Kodansha  2.997000e+03\n",
      "21                   production_companies_Rising Star  2.997000e+03\n",
      "26           production_companies_Shanghai Film Group  2.997000e+03\n"
     ]
    }
   ],
   "source": [
    "import pandas as pd\n",
    "from sklearn.feature_selection import SelectKBest, f_classif,chi2\n",
    "#Suppose, we select 5 features with top 5 Fisher scores\n",
    "selector = SelectKBest(chi2, k = 30)\n",
    "#New dataframe with the selected features for later use in the classifier. fit() method works too, if you want only the feature names and their corresponding scores\n",
    "X_new = selector.fit_transform(X, y)\n",
    "names = X.columns.values[selector.get_support()]\n",
    "scores = selector.scores_[selector.get_support()]\n",
    "names_scores = list(zip(names, scores))\n",
    "ns_df = pd.DataFrame(data = names_scores, columns=['Feat_names', 'F_Scores'])\n",
    "#Sort the dataframe for better visualization\n",
    "ns_df_sorted = ns_df.sort_values(['F_Scores', 'Feat_names'], ascending = [False, True])\n",
    "print(ns_df_sorted)"
   ]
  },
  {
   "cell_type": "code",
   "execution_count": 257,
   "metadata": {},
   "outputs": [],
   "source": [
    "# from sklearn.feature_selection import RFE\n",
    "# # Create the RFE object and rank each pixel\n",
    "# clf_rf_3 = RandomForestRegressor()\n",
    "# rfe = RFE(estimator=clf_rf_3, n_features_to_select=30, step=1)\n",
    "# rfe = rfe.fit(X_train, y_train)\n",
    "\n",
    "# print('Chosen best 5 feature by rfe:',X_train.columns[rfe.support_])\n",
    "\n"
   ]
  },
  {
   "cell_type": "code",
   "execution_count": 43,
   "metadata": {},
   "outputs": [
    {
     "name": "stdout",
     "output_type": "stream",
     "text": [
      "Fitting...\n"
     ]
    },
    {
     "name": "stderr",
     "output_type": "stream",
     "text": [
      "/Users/mince/anaconda3/lib/python3.7/site-packages/xgboost/core.py:587: FutureWarning: Series.base is deprecated and will be removed in a future version\n",
      "  if getattr(data, 'base', None) is not None and \\\n"
     ]
    },
    {
     "name": "stdout",
     "output_type": "stream",
     "text": [
      "Predicting...\n",
      "Calculating RMSE...\n",
      "RMSE: 93184649.038922\n"
     ]
    }
   ],
   "source": [
    "print(\"Fitting...\")\n",
    "xg_reg.fit(X_train,y_train)\n",
    "print(\"Predicting...\")\n",
    "preds = xg_reg.predict(X_test)\n",
    "print(\"Calculating RMSE...\")\n",
    "rmse = np.sqrt(mean_squared_error(y_test, preds))\n",
    "print(\"RMSE: %f\" % (rmse))\n"
   ]
  },
  {
   "cell_type": "code",
   "execution_count": 44,
   "metadata": {},
   "outputs": [
    {
     "data": {
      "text/plain": [
       "array([[1.        , 0.83410707],\n",
       "       [0.83410707, 1.        ]])"
      ]
     },
     "execution_count": 44,
     "metadata": {},
     "output_type": "execute_result"
    }
   ],
   "source": [
    "np.corrcoef(y_test, preds)"
   ]
  },
  {
   "cell_type": "code",
   "execution_count": null,
   "metadata": {},
   "outputs": [],
   "source": [
    "import lightgbm\n",
    "\n",
    "?lightgbm.train"
   ]
  },
  {
   "cell_type": "code",
   "execution_count": null,
   "metadata": {},
   "outputs": [],
   "source": [
    "# TODO https://www.kaggle.com/residentmario/automated-feature-selection-with-sklearn\n",
    "# Also lightgbm is faster\n",
    "# https://www.kaggle.com/kanncaa1/feature-selection-and-data-visualization\n",
    "\n",
    "# https://www.kaggle.com/ezietsman/simple-python-lightgbm-example\n",
    "\n",
    "import lightgbm\n",
    "\n",
    "\n",
    "# I have no idea what this means\n",
    "parameters = {\n",
    "    'application': 'numeric',\n",
    "    'objective': 'numeric',\n",
    "    'metric': 'auc',\n",
    "    'is_unbalance': 'true',\n",
    "    'boosting': 'gbdt',\n",
    "    'num_leaves': 31,\n",
    "    'feature_fraction': 0.5,\n",
    "    'bagging_fraction': 0.5,\n",
    "    'bagging_freq': 20,\n",
    "    'learning_rate': 0.05,\n",
    "    'verbose': 0\n",
    "}\n",
    "\n",
    "model = lightgbm.train(parameters,\n",
    "                       X_train,\n",
    "                       valid_sets=y_train,\n",
    "                       num_boost_round=5000,\n",
    "                       early_stopping_rounds=100)\n"
   ]
  },
  {
   "cell_type": "code",
   "execution_count": null,
   "metadata": {},
   "outputs": [],
   "source": [
    "\n"
   ]
  }
 ],
 "metadata": {
  "kernelspec": {
   "display_name": "Python 3",
   "language": "python",
   "name": "python3"
  },
  "language_info": {
   "codemirror_mode": {
    "name": "ipython",
    "version": 3
   },
   "file_extension": ".py",
   "mimetype": "text/x-python",
   "name": "python",
   "nbconvert_exporter": "python",
   "pygments_lexer": "ipython3",
   "version": "3.7.1"
  }
 },
 "nbformat": 4,
 "nbformat_minor": 2
}
